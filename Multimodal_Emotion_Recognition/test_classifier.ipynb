{
 "cells": [
  {
   "cell_type": "code",
   "execution_count": 127,
   "metadata": {
    "ExecuteTime": {
     "end_time": "2024-10-19T08:18:04.270632Z",
     "start_time": "2024-10-19T08:18:04.219385700Z"
    }
   },
   "outputs": [
    {
     "name": "stdout",
     "output_type": "stream",
     "text": [
      "(7837, 3) (7837,) (7837, 10) (7837,)\n"
     ]
    }
   ],
   "source": [
    "import pandas as pd\n",
    "import numpy as np\n",
    "import pickle\n",
    "import itertools\n",
    "import matplotlib\n",
    "import matplotlib.pyplot as plt\n",
    "\n",
    "from sklearn.svm import LinearSVC\n",
    "from sklearn.naive_bayes import MultinomialNB\n",
    "from sklearn.linear_model import LogisticRegression\n",
    "from sklearn.ensemble import RandomForestClassifier\n",
    "from sklearn.model_selection import train_test_split\n",
    "from sklearn.feature_selection import SelectFromModel\n",
    "from sklearn.feature_extraction.text import CountVectorizer\n",
    "from sklearn.feature_extraction.text import TfidfTransformer, TfidfVectorizer\n",
    "from sklearn.metrics import confusion_matrix, f1_score, accuracy_score, precision_score, recall_score\n",
    "\n",
    "x_train_text = pd.read_csv('data/t2e/text_train.csv')\n",
    "x_test_text = pd.read_csv('data/t2e/text_test.csv')\n",
    "\n",
    "y_train_text = x_train_text['label']\n",
    "y_test_text = x_test_text['label']\n",
    "\n",
    "x_train_audio = pd.read_csv('data/s2e/audio_train.csv')\n",
    "x_test_audio = pd.read_csv('data/s2e/audio_test.csv')\n",
    "\n",
    "\n",
    "y_train_audio = x_train_audio['label']\n",
    "y_test_audio = x_test_audio['label']\n",
    "\n",
    "y_train = y_train_audio \n",
    "y_test = y_test_audio  \n",
    "\n",
    "print(x_train_text.shape, y_train_text.shape, x_train_audio.shape, y_train_audio.shape)"
   ]
  },
  {
   "cell_type": "code",
   "execution_count": 128,
   "metadata": {
    "ExecuteTime": {
     "end_time": "2024-10-19T08:18:04.296822800Z",
     "start_time": "2024-10-19T08:18:04.277637900Z"
    }
   },
   "outputs": [],
   "source": [
    "emotion_dict = {'ang': 0,\n",
    "                'hap': 1,\n",
    "                'sad': 2,\n",
    "                'fea': 3,\n",
    "                'sur': 4,\n",
    "                'neu': 5}\n",
    "\n",
    "emo_keys = list(['ang', 'hap', 'sad', 'fea', 'sur', 'neu'])\n",
    "\n",
    "id_to_emotion = {0: 'ang', 1: 'hap', 2: 'sad', 3: 'fea', 4: 'sur', 5: 'neu'}\n",
    "\n",
    "def plot_confusion_matrix(cm, classes,\n",
    "                          normalize=False,\n",
    "                          title='Confusion matrix',\n",
    "                          cmap=plt.cm.Blues):\n",
    "  \n",
    "    plt.imshow(cm, interpolation='nearest', cmap=cmap)\n",
    "    plt.title(title)\n",
    "    plt.colorbar()\n",
    "    tick_marks = np.arange(len(classes))\n",
    "    plt.xticks(tick_marks, classes, rotation=45)\n",
    "    plt.yticks(tick_marks, classes)\n",
    "\n",
    "    if normalize:\n",
    "        cm = cm.astype('float') / cm.sum(axis=1)[:, np.newaxis]\n",
    "        print(\"Normalized confusion matrix\")\n",
    "    else:\n",
    "        print('Confusion matrix, without normalization')\n",
    "\n",
    "    print(cm)\n",
    "\n",
    "    thresh = cm.max() / 2.\n",
    "    for i, j in itertools.product(range(cm.shape[0]), range(cm.shape[1])):\n",
    "        plt.text(j, i, cm[i, j],\n",
    "                 horizontalalignment=\"center\",\n",
    "                 color=\"white\" if cm[i, j] > thresh else \"black\")\n",
    "\n",
    "    plt.tight_layout()\n",
    "    plt.ylabel('True label')\n",
    "    plt.xlabel('Predicted label')\n",
    "    \n",
    "def one_hot_encoder(true_labels, num_records, num_classes):\n",
    "    temp = np.array(true_labels[:num_records])\n",
    "    true_labels = np.zeros((num_records, num_classes))\n",
    "    true_labels[np.arange(num_records), temp] = 1\n",
    "    return true_labels\n",
    "\n",
    "def display_results(y_test, pred_probs, cm=True):\n",
    "    pred = np.argmax(pred_probs, axis=-1)\n",
    "    one_hot_true = one_hot_encoder(y_test, len(pred), len(emotion_dict))\n",
    "    print('Test Set Accuracy =  {0:.3f}'.format(accuracy_score(y_test, pred)))\n",
    "    print('Test Set F-score =  {0:.3f}'.format(f1_score(y_test, pred, average='macro')))\n",
    "    print('Test Set Precision =  {0:.3f}'.format(precision_score(y_test, pred, average='macro')))\n",
    "    print('Test Set Recall =  {0:.3f}'.format(recall_score(y_test, pred, average='macro')))\n",
    "    if cm:\n",
    "        plot_confusion_matrix(confusion_matrix(y_test, pred), classes=emo_keys)"
   ]
  },
  {
   "cell_type": "code",
   "execution_count": 129,
   "metadata": {
    "ExecuteTime": {
     "end_time": "2024-10-19T08:18:04.304246700Z",
     "start_time": "2024-10-19T08:18:04.283639500Z"
    }
   },
   "outputs": [],
   "source": [
    "cl_weight = dict(pd.Series(x_train_audio['label']).value_counts(normalize=True))"
   ]
  },
  {
   "cell_type": "markdown",
   "metadata": {},
   "source": [
    "## 文本特征"
   ]
  },
  {
   "cell_type": "code",
   "execution_count": 130,
   "metadata": {
    "ExecuteTime": {
     "end_time": "2024-10-19T08:18:04.453683900Z",
     "start_time": "2024-10-19T08:18:04.302740100Z"
    }
   },
   "outputs": [
    {
     "name": "stdout",
     "output_type": "stream",
     "text": [
      "(9797, 2464) (7837, 2464) (1960, 2464)\n"
     ]
    }
   ],
   "source": [
    "# 使用 concat 来合并两个 DataFrame 的 transcription 列\n",
    "combined_text = pd.concat([x_train_text['transcription'], x_test_text['transcription']])\n",
    "\n",
    "# 初始化 TfidfVectorizer\n",
    "tfidf = TfidfVectorizer(sublinear_tf=True, min_df=5, norm='l2', encoding='latin-1', ngram_range=(1, 2), stop_words='english')\n",
    "\n",
    "# 使用合并后的文本数据来拟合和转换 TfidfVectorizer\n",
    "features_text = tfidf.fit_transform(combined_text).toarray()\n",
    "\n",
    "# 根据原始训练和测试集的大小来分割特征\n",
    "x_train_text = features_text[:x_train_text.shape[0], :]\n",
    "x_test_text = features_text[-x_test_text.shape[0]:, :]\n",
    "\n",
    "# 打印形状信息\n",
    "print(features_text.shape, x_train_text.shape, x_test_text.shape)"
   ]
  },
  {
   "cell_type": "markdown",
   "metadata": {},
   "source": [
    "## 特征融合"
   ]
  },
  {
   "cell_type": "code",
   "execution_count": 131,
   "metadata": {
    "ExecuteTime": {
     "end_time": "2024-10-19T08:18:04.795136400Z",
     "start_time": "2024-10-19T08:18:04.456725700Z"
    }
   },
   "outputs": [
    {
     "name": "stdout",
     "output_type": "stream",
     "text": [
      "(7837, 2472) (1960, 2472)\n"
     ]
    }
   ],
   "source": [
    "combined_x_train = np.concatenate((np.array(x_train_audio[x_train_audio.columns[2:]]), x_train_text), axis=1)\n",
    "combined_x_test = np.concatenate((np.array(x_test_audio[x_test_audio.columns[2:]]), x_test_text), axis=1)\n",
    "\n",
    "print(combined_x_train.shape, combined_x_test.shape)\n",
    "\n",
    "combined_features_dict = {}\n",
    "\n",
    "combined_features_dict['x_train'] = combined_x_train\n",
    "combined_features_dict['x_test'] = combined_x_test\n",
    "combined_features_dict['y_train'] = np.array(y_train)\n",
    "combined_features_dict['y_test'] = np.array(y_test)\n",
    "\n",
    "with open('data/combined/combined_features.pkl', 'wb') as f:\n",
    "    pickle.dump(combined_features_dict, f)\n"
   ]
  },
  {
   "cell_type": "code",
   "execution_count": 132,
   "metadata": {
    "ExecuteTime": {
     "end_time": "2024-10-19T08:18:44.043120300Z",
     "start_time": "2024-10-19T08:18:04.801267200Z"
    }
   },
   "outputs": [
    {
     "name": "stdout",
     "output_type": "stream",
     "text": [
      "Test Set Accuracy =  0.666\n",
      "Test Set F-score =  0.666\n",
      "Test Set Precision =  0.720\n",
      "Test Set Recall =  0.660\n",
      "Confusion matrix\n",
      "[[ 90  18 106   0   3   7]\n",
      " [ 18 128 113   3   5  33]\n",
      " [ 19  28 496   1   6  33]\n",
      " [  0   0   0 247   0   0]\n",
      " [  0   0   0   0 241   0]\n",
      " [ 13  18 222   4   5 103]]\n"
     ]
    }
   ],
   "source": [
    "rf_classifier = RandomForestClassifier(n_estimators=600, min_samples_split=25)\n",
    "rf_classifier.fit(combined_x_train, y_train)\n",
    "\n",
    "# 预测\n",
    "pred_probs = rf_classifier.predict_proba(combined_x_test)\n",
    "\n",
    "# 结果\n",
    "y_pred = pred_probs.argmax(axis=1)\n",
    "\n",
    "one_hot_true = one_hot_encoder(y_test, len(y_pred), len(emotion_dict))\n",
    "print('Test Set Accuracy =  {0:.3f}'.format(accuracy_score(y_test, y_pred)))\n",
    "print('Test Set F-score =  {0:.3f}'.format(f1_score(y_test, y_pred, average='macro')))\n",
    "print('Test Set Precision =  {0:.3f}'.format(precision_score(y_test, y_pred, average='macro')))\n",
    "print('Test Set Recall =  {0:.3f}'.format(recall_score(y_test, y_pred, average='macro')))\n",
    "\n",
    "# 计算混淆矩阵\n",
    "cm = confusion_matrix(y_test, y_pred)\n",
    "\n",
    "# 输出混淆矩阵的数值\n",
    "print(\"Confusion matrix\")\n",
    "print(cm)\n",
    "\n",
    "# 保存\n",
    "with open('pred_probas/rf_classifier.pkl', 'wb') as f:\n",
    "    pickle.dump(pred_probs, f)\n"
   ]
  },
  {
   "cell_type": "code",
   "execution_count": 133,
   "metadata": {
    "ExecuteTime": {
     "end_time": "2024-10-19T08:18:44.401880Z",
     "start_time": "2024-10-19T08:18:44.046114200Z"
    }
   },
   "outputs": [
    {
     "name": "stdout",
     "output_type": "stream",
     "text": [
      "Test Set Accuracy =  0.649\n",
      "Test Set F-score =  0.662\n",
      "Test Set Precision =  0.664\n",
      "Test Set Recall =  0.666\n",
      "Confusion matrix\n",
      "[[125   7  64   7   5  16]\n",
      " [  8 190  36   8  11  47]\n",
      " [ 42  33 392  16  24  76]\n",
      " [  0   0  15 232   0   0]\n",
      " [  1   3  25  14 198   0]\n",
      " [ 20  48 135  14  12 136]]\n"
     ]
    }
   ],
   "source": [
    "svc_classifier = LinearSVC()\n",
    "\n",
    "svc_classifier.fit(combined_x_train, y_train)\n",
    "\n",
    "# 预测\n",
    "pred = svc_classifier.predict(combined_x_test)\n",
    "\n",
    "# 结果\n",
    "one_hot_true = one_hot_encoder(y_test, len(pred), len(emotion_dict))\n",
    "print('Test Set Accuracy =  {0:.3f}'.format(accuracy_score(y_test, pred)))\n",
    "print('Test Set F-score =  {0:.3f}'.format(f1_score(y_test, pred, average='macro')))\n",
    "print('Test Set Precision =  {0:.3f}'.format(precision_score(y_test, pred, average='macro')))\n",
    "print('Test Set Recall =  {0:.3f}'.format(recall_score(y_test, pred, average='macro')))\n",
    "\n",
    "# 计算混淆矩阵\n",
    "cm = confusion_matrix(y_test, pred)\n",
    "\n",
    "# 输出混淆矩阵的数值\n",
    "print(\"Confusion matrix\")\n",
    "print(cm)\n",
    "\n",
    "# 保存\n",
    "with open('pred_probas/svc_classifier_model.pkl', 'wb') as f:\n",
    "    pickle.dump(svc_classifier, f)\n",
    "    "
   ]
  },
  {
   "cell_type": "code",
   "execution_count": 134,
   "metadata": {
    "ExecuteTime": {
     "end_time": "2024-10-19T08:18:44.509325Z",
     "start_time": "2024-10-19T08:18:44.408157300Z"
    }
   },
   "outputs": [
    {
     "name": "stdout",
     "output_type": "stream",
     "text": [
      "Test Set Accuracy =  0.607\n",
      "Test Set F-score =  0.608\n",
      "Test Set Precision =  0.719\n",
      "Test Set Recall =  0.574\n",
      "Confusion matrix\n",
      "[[ 88  13 107   3   5   8]\n",
      " [  4 166  94   3   8  25]\n",
      " [ 18  20 509   3   9  24]\n",
      " [  0   0  70 177   0   0]\n",
      " [  0   8  74   0 159   0]\n",
      " [  4  30 224   9   7  91]]\n"
     ]
    }
   ],
   "source": [
    "mnb_classifier = MultinomialNB()\n",
    "\n",
    "mnb_classifier.fit(combined_x_train, y_train)\n",
    "\n",
    "# 预测\n",
    "pred_probs = mnb_classifier.predict_proba(combined_x_test)\n",
    "\n",
    "# 结果\n",
    "y_pred = pred_probs.argmax(axis=1)\n",
    "\n",
    "one_hot_true = one_hot_encoder(y_test, len(y_pred), len(emotion_dict))\n",
    "print('Test Set Accuracy =  {0:.3f}'.format(accuracy_score(y_test, y_pred)))\n",
    "print('Test Set F-score =  {0:.3f}'.format(f1_score(y_test, y_pred, average='macro')))\n",
    "print('Test Set Precision =  {0:.3f}'.format(precision_score(y_test, y_pred, average='macro')))\n",
    "print('Test Set Recall =  {0:.3f}'.format(recall_score(y_test, y_pred, average='macro')))\n",
    "\n",
    "# 计算混淆矩阵\n",
    "cm = confusion_matrix(y_test, y_pred)\n",
    "\n",
    "# 输出混淆矩阵的数值\n",
    "print(\"Confusion matrix\")\n",
    "print(cm)\n",
    "\n",
    "# 保存\n",
    "with open('pred_probas/mnb_classifier.pkl', 'wb') as f:\n",
    "    pickle.dump(pred_probs, f)\n"
   ]
  },
  {
   "cell_type": "code",
   "execution_count": 135,
   "metadata": {
    "ExecuteTime": {
     "end_time": "2024-10-19T08:18:47.977819500Z",
     "start_time": "2024-10-19T08:18:44.510367500Z"
    }
   },
   "outputs": [
    {
     "name": "stderr",
     "output_type": "stream",
     "text": [
      "D:\\Ide\\Anaconda\\envs\\MER\\lib\\site-packages\\sklearn\\linear_model\\_logistic.py:1247: FutureWarning: 'multi_class' was deprecated in version 1.5 and will be removed in 1.7. From then on, it will always use 'multinomial'. Leave it to its default value to avoid this warning.\n",
      "  warnings.warn(\n"
     ]
    },
    {
     "name": "stdout",
     "output_type": "stream",
     "text": [
      "Test Set Accuracy =  0.631\n",
      "Test Set F-score =  0.643\n",
      "Test Set Precision =  0.686\n",
      "Test Set Recall =  0.620\n",
      "Confusion matrix\n",
      "[[119   8  77   1   5  14]\n",
      " [  9 175  59   4  13  40]\n",
      " [ 28  29 449   4  18  55]\n",
      " [ 10   0  53 184   0   0]\n",
      " [  5   7  49   2 173   5]\n",
      " [  7  34 166   9  12 137]]\n"
     ]
    }
   ],
   "source": [
    "lr_classifier = LogisticRegression(solver='lbfgs', multi_class='multinomial', max_iter=1000)\n",
    "\n",
    "lr_classifier.fit(combined_x_train, y_train)\n",
    "\n",
    "# 预测\n",
    "pred_probs = lr_classifier.predict_proba(combined_x_test)\n",
    "\n",
    "# 结果\n",
    "y_pred = pred_probs.argmax(axis=1)\n",
    "\n",
    "one_hot_true = one_hot_encoder(y_test, len(y_pred), len(emotion_dict))\n",
    "print('Test Set Accuracy =  {0:.3f}'.format(accuracy_score(y_test, y_pred)))\n",
    "print('Test Set F-score =  {0:.3f}'.format(f1_score(y_test, y_pred, average='macro')))\n",
    "print('Test Set Precision =  {0:.3f}'.format(precision_score(y_test, y_pred, average='macro')))\n",
    "print('Test Set Recall =  {0:.3f}'.format(recall_score(y_test, y_pred, average='macro')))\n",
    "\n",
    "# 计算混淆矩阵\n",
    "cm = confusion_matrix(y_test, y_pred)\n",
    "\n",
    "# 输出混淆矩阵的数值\n",
    "print(\"Confusion matrix\")\n",
    "print(cm)\n",
    "\n",
    "# 保存\n",
    "with open('pred_probas/lr_classifier.pkl', 'wb') as f:\n",
    "    pickle.dump(pred_probs, f)\n"
   ]
  },
  {
   "cell_type": "code",
   "execution_count": 140,
   "metadata": {
    "ExecuteTime": {
     "end_time": "2024-10-19T08:53:30.500569300Z",
     "start_time": "2024-10-19T08:53:30.218122Z"
    }
   },
   "outputs": [
    {
     "name": "stdout",
     "output_type": "stream",
     "text": [
      "Test Set Accuracy =  0.696\n",
      "Test Set F-score =  0.699\n",
      "Test Set Precision =  0.751\n",
      "Test Set Recall =  0.691\n",
      "Confusion matrix, without normalization\n",
      "[[ 97   8 102   2   6   9]\n",
      " [  7 172  74   3   9  35]\n",
      " [ 21  19 501   2   9  31]\n",
      " [  0   0   0 247   0   0]\n",
      " [  0   0   8   0 233   0]\n",
      " [  5  27 205   7   6 115]]\n"
     ]
    },
    {
     "data": {
      "text/plain": "<Figure size 640x480 with 2 Axes>",
      "image/png": "[encoded data removed]"
     },
     "metadata": {},
     "output_type": "display_data"
    }
   ],
   "source": [
    "with open('pred_probas/rf_classifier.pkl', 'rb') as f:\n",
    "    rf_pred_probs = pickle.load(f)\n",
    "    \n",
    "with open('pred_probas/svc_classifier_model.pkl', 'rb') as f:\n",
    "    svc_preds = pickle.load(f)\n",
    "    \n",
    "with open('pred_probas/mnb_classifier.pkl', 'rb') as f:\n",
    "    mnb_pred_probs = pickle.load(f)\n",
    "    \n",
    "with open('pred_probas/lr_classifier.pkl', 'rb') as f:\n",
    "    lr_pred_probs = pickle.load(f)\n",
    "\n",
    "with open('pred_probas/lstm_classifier.pkl', 'rb') as f:\n",
    "    lstm_pred_probs = pickle.load(f)\n",
    "\n",
    "\n",
    "# 平均\n",
    "ensemble_pred_probs = (rf_pred_probs +\n",
    "                       mnb_pred_probs +\n",
    "                       lr_pred_probs)/3.0\n",
    "# 混淆矩阵\n",
    "display_results(y_test, ensemble_pred_probs)"
   ]
  }
 ],
 "metadata": {
  "kernelspec": {
   "display_name": "Python 3",
   "language": "python",
   "name": "python3"
  },
  "language_info": {
   "codemirror_mode": {
    "name": "ipython",
    "version": 3
   },
   "file_extension": ".py",
   "mimetype": "text/x-python",
   "name": "python",
   "nbconvert_exporter": "python",
   "pygments_lexer": "ipython3",
   "version": "3.5.2"
  }
 },
 "nbformat": 4,
 "nbformat_minor": 2
}
